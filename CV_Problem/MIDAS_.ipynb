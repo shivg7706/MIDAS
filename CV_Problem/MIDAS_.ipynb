{
  "nbformat": 4,
  "nbformat_minor": 0,
  "metadata": {
    "colab": {
      "name": "MIDAS.ipynb",
      "version": "0.3.2",
      "provenance": []
    },
    "kernelspec": {
      "name": "python3",
      "display_name": "Python 3"
    },
    "accelerator": "GPU"
  },
  "cells": [
    {
      "metadata": {
        "id": "5Q_i6zP76oZq",
        "colab_type": "code",
        "colab": {}
      },
      "cell_type": "code",
      "source": [
        "import pickle\n",
        "import numpy as np\n",
        "from keras.datasets import mnist\n",
        "from keras.models import Sequential\n",
        "from keras.layers import Dense\n",
        "from keras.layers import Dropout\n",
        "from keras.layers import Flatten\n",
        "from keras.layers.convolutional import Conv2D\n",
        "from keras.layers import BatchNormalization\n",
        "from keras.layers.convolutional import MaxPooling2D\n",
        "from keras.utils import np_utils\n",
        "from keras.utils import plot_model\n",
        "from keras import backend as K\n",
        "from sklearn.model_selection import train_test_split\n",
        "K.set_image_dim_ordering('th')"
      ],
      "execution_count": 0,
      "outputs": []
    },
    {
      "metadata": {
        "id": "Rl_bxvLA7ks9",
        "colab_type": "code",
        "colab": {}
      },
      "cell_type": "code",
      "source": [
        "with open('train_image.pkl', 'rb') as f:\n",
        "    data = pickle.load(f)\n",
        "    data = np.array(data)\n",
        "    data = data.reshape(-1, 28, 28)\n",
        "\n",
        "    "
      ],
      "execution_count": 0,
      "outputs": []
    },
    {
      "metadata": {
        "id": "Pzgc8Iv77lNB",
        "colab_type": "code",
        "colab": {}
      },
      "cell_type": "code",
      "source": [
        "with open('train_label.pkl', 'rb') as f:\n",
        "    label = pickle.load(f)\n",
        "    label = np.array(label)\n",
        "    label = label.reshape(-1, 1)"
      ],
      "execution_count": 0,
      "outputs": []
    },
    {
      "metadata": {
        "id": "Ovg2RvypCLf1",
        "colab_type": "code",
        "outputId": "798fc0f0-9bf2-49f1-bbfd-dcfb599661b9",
        "colab": {
          "base_uri": "https://localhost:8080/",
          "height": 34
        }
      },
      "cell_type": "code",
      "source": [
        "label.shape"
      ],
      "execution_count": 0,
      "outputs": [
        {
          "output_type": "execute_result",
          "data": {
            "text/plain": [
              "(8000, 1)"
            ]
          },
          "metadata": {
            "tags": []
          },
          "execution_count": 4
        }
      ]
    },
    {
      "metadata": {
        "id": "TGMhtliY-RPO",
        "colab_type": "code",
        "colab": {}
      },
      "cell_type": "code",
      "source": [
        "data_train, data_test, label_train, label_test = train_test_split(data, label, test_size=0.20, random_state=42)"
      ],
      "execution_count": 0,
      "outputs": []
    },
    {
      "metadata": {
        "id": "8guPviwy-1ZG",
        "colab_type": "code",
        "outputId": "1eae6a0e-7727-46cf-bb19-f593aa76c47b",
        "colab": {
          "base_uri": "https://localhost:8080/",
          "height": 265
        }
      },
      "cell_type": "code",
      "source": [
        "%matplotlib inline\n",
        "from matplotlib import pyplot as plt\n",
        "plt.imshow(data[0], interpolation='nearest')\n",
        "plt.show()"
      ],
      "execution_count": 8,
      "outputs": [
        {
          "output_type": "display_data",
          "data": {
            "image/png": "[encoded data removed]",
            "text/plain": [
              "<Figure size 432x288 with 1 Axes>"
            ]
          },
          "metadata": {
            "tags": []
          }
        }
      ]
    },
    {
      "metadata": {
        "id": "OdiPH2BEBRBj",
        "colab_type": "code",
        "colab": {}
      },
      "cell_type": "code",
      "source": [
        "data_train = data_train.reshape(data_train.shape[0], 1, 28, 28).astype('float32')\n",
        "data_test = data_test.reshape(data_test.shape[0], 1, 28, 28).astype('float32')"
      ],
      "execution_count": 0,
      "outputs": []
    },
    {
      "metadata": {
        "id": "nBNpRy5FCFRS",
        "colab_type": "code",
        "outputId": "35d96db0-af2d-4cbb-d524-7ab2cc05c144",
        "colab": {
          "base_uri": "https://localhost:8080/",
          "height": 34
        }
      },
      "cell_type": "code",
      "source": [
        "label_train.shape"
      ],
      "execution_count": 0,
      "outputs": [
        {
          "output_type": "execute_result",
          "data": {
            "text/plain": [
              "(6400, 7)"
            ]
          },
          "metadata": {
            "tags": []
          },
          "execution_count": 10
        }
      ]
    },
    {
      "metadata": {
        "id": "dRR34_tYBQ1L",
        "colab_type": "code",
        "outputId": "486f774d-dec3-4b27-b3d7-c30d35dfbf0e",
        "colab": {
          "base_uri": "https://localhost:8080/",
          "height": 34
        }
      },
      "cell_type": "code",
      "source": [
        "\n",
        "label_train = np_utils.to_categorical(label_train)\n",
        "label_test = np_utils.to_categorical(label_test)\n",
        "num_classes = label_test.shape[1]\n",
        "print(num_classes)"
      ],
      "execution_count": 10,
      "outputs": [
        {
          "output_type": "stream",
          "text": [
            "7\n"
          ],
          "name": "stdout"
        }
      ]
    },
    {
      "metadata": {
        "id": "67dO39nNBQec",
        "colab_type": "code",
        "colab": {}
      },
      "cell_type": "code",
      "source": [
        "def cnn_model():\n",
        "    model = Sequential()\n",
        "    model.add(Conv2D(32, kernel_size=5,input_shape=(1, 28, 28), activation = 'relu'))\n",
        "    model.add(MaxPooling2D(2,2))\n",
        "    model.add(BatchNormalization())\n",
        "    model.add(Dropout(0.4))\n",
        "\n",
        "    model.add(Conv2D(64, kernel_size=3,activation = 'relu'))\n",
        "    model.add(MaxPooling2D(2,2))\n",
        "    model.add(BatchNormalization())\n",
        "    model.add(Dropout(0.4))\n",
        "\n",
        "    model.add(Conv2D(128, kernel_size=3, activation = 'relu'))\n",
        "    model.add(BatchNormalization())\n",
        "\n",
        "    model.add(Flatten())\n",
        "    model.add(Dense(256, activation = \"relu\"))\n",
        "    model.add(Dropout(0.4))\n",
        "    model.add(Dense(128, activation = \"relu\"))\n",
        "    model.add(Dropout(0.4))\n",
        "    model.add(Dense(7, activation = \"softmax\"))\n",
        "    \n",
        "    model.compile(loss='categorical_crossentropy', optimizer='adam', metrics=['accuracy'])\n",
        "    \n",
        "    return model"
      ],
      "execution_count": 0,
      "outputs": []
    },
    {
      "metadata": {
        "id": "hqeshkWOoh3P",
        "colab_type": "code",
        "outputId": "ad3b7b22-9ca3-44c0-c238-8fa4aa2489ca",
        "colab": {
          "base_uri": "https://localhost:8080/",
          "height": 746
        }
      },
      "cell_type": "code",
      "source": [
        "model = cnn_model()\n",
        "history = model.fit(data_train, label_train, validation_data=(data_test, label_test), epochs=20, batch_size=32, verbose=2)\n",
        "scores = model.evaluate(data_test, label_test, verbose=0)\n",
        "print('CNN Error {}'.format(100-scores[1]*100))"
      ],
      "execution_count": 17,
      "outputs": [
        {
          "output_type": "stream",
          "text": [
            "Train on 6400 samples, validate on 1600 samples\n",
            "Epoch 1/20\n",
            " - 2s - loss: 0.0923 - acc: 0.9666 - val_loss: 0.5633 - val_acc: 0.8606\n",
            "Epoch 2/20\n",
            " - 2s - loss: 0.0937 - acc: 0.9633 - val_loss: 0.5614 - val_acc: 0.8694\n",
            "Epoch 3/20\n",
            " - 2s - loss: 0.0902 - acc: 0.9666 - val_loss: 0.5833 - val_acc: 0.8562\n",
            "Epoch 4/20\n",
            " - 2s - loss: 0.0780 - acc: 0.9702 - val_loss: 0.6294 - val_acc: 0.8725\n",
            "Epoch 5/20\n",
            " - 2s - loss: 0.0851 - acc: 0.9689 - val_loss: 0.6256 - val_acc: 0.8650\n",
            "Epoch 6/20\n",
            " - 2s - loss: 0.0852 - acc: 0.9689 - val_loss: 0.5617 - val_acc: 0.8719\n",
            "Epoch 7/20\n",
            " - 2s - loss: 0.0777 - acc: 0.9727 - val_loss: 0.6266 - val_acc: 0.8606\n",
            "Epoch 8/20\n",
            " - 2s - loss: 0.0888 - acc: 0.9692 - val_loss: 0.5294 - val_acc: 0.8681\n",
            "Epoch 9/20\n",
            " - 2s - loss: 0.0879 - acc: 0.9666 - val_loss: 0.5719 - val_acc: 0.8769\n",
            "Epoch 10/20\n",
            " - 2s - loss: 0.0886 - acc: 0.9681 - val_loss: 0.5276 - val_acc: 0.8675\n",
            "Epoch 11/20\n",
            " - 2s - loss: 0.0768 - acc: 0.9714 - val_loss: 0.6629 - val_acc: 0.8694\n",
            "Epoch 12/20\n",
            " - 2s - loss: 0.0675 - acc: 0.9761 - val_loss: 0.6657 - val_acc: 0.8744\n",
            "Epoch 13/20\n",
            " - 2s - loss: 0.0805 - acc: 0.9708 - val_loss: 0.6103 - val_acc: 0.8781\n",
            "Epoch 14/20\n",
            " - 2s - loss: 0.0754 - acc: 0.9712 - val_loss: 0.6614 - val_acc: 0.8738\n",
            "Epoch 15/20\n",
            " - 2s - loss: 0.0801 - acc: 0.9709 - val_loss: 0.6260 - val_acc: 0.8569\n",
            "Epoch 16/20\n",
            " - 2s - loss: 0.0793 - acc: 0.9706 - val_loss: 0.6645 - val_acc: 0.8650\n",
            "Epoch 17/20\n",
            " - 2s - loss: 0.0751 - acc: 0.9725 - val_loss: 0.5953 - val_acc: 0.8650\n",
            "Epoch 18/20\n",
            " - 2s - loss: 0.0785 - acc: 0.9703 - val_loss: 0.5891 - val_acc: 0.8731\n",
            "Epoch 19/20\n",
            " - 2s - loss: 0.0735 - acc: 0.9714 - val_loss: 0.5842 - val_acc: 0.8719\n",
            "Epoch 20/20\n",
            " - 2s - loss: 0.0691 - acc: 0.9750 - val_loss: 0.6417 - val_acc: 0.8712\n",
            "CNN Error 12.875\n"
          ],
          "name": "stdout"
        }
      ]
    },
    {
      "metadata": {
        "id": "g9NQt-y2ohnq",
        "colab_type": "code",
        "outputId": "3fa1d02a-00eb-41d4-97b4-0a18d3a36372",
        "colab": {
          "base_uri": "https://localhost:8080/",
          "height": 694
        }
      },
      "cell_type": "code",
      "source": [
        "model.summary()"
      ],
      "execution_count": 18,
      "outputs": [
        {
          "output_type": "stream",
          "text": [
            "_________________________________________________________________\n",
            "Layer (type)                 Output Shape              Param #   \n",
            "=================================================================\n",
            "conv2d_1 (Conv2D)            (None, 32, 24, 24)        832       \n",
            "_________________________________________________________________\n",
            "max_pooling2d_1 (MaxPooling2 (None, 32, 12, 12)        0         \n",
            "_________________________________________________________________\n",
            "batch_normalization_1 (Batch (None, 32, 12, 12)        48        \n",
            "_________________________________________________________________\n",
            "dropout_1 (Dropout)          (None, 32, 12, 12)        0         \n",
            "_________________________________________________________________\n",
            "conv2d_2 (Conv2D)            (None, 64, 10, 10)        18496     \n",
            "_________________________________________________________________\n",
            "max_pooling2d_2 (MaxPooling2 (None, 64, 5, 5)          0         \n",
            "_________________________________________________________________\n",
            "batch_normalization_2 (Batch (None, 64, 5, 5)          20        \n",
            "_________________________________________________________________\n",
            "dropout_2 (Dropout)          (None, 64, 5, 5)          0         \n",
            "_________________________________________________________________\n",
            "conv2d_3 (Conv2D)            (None, 128, 3, 3)         73856     \n",
            "_________________________________________________________________\n",
            "batch_normalization_3 (Batch (None, 128, 3, 3)         12        \n",
            "_________________________________________________________________\n",
            "flatten_1 (Flatten)          (None, 1152)              0         \n",
            "_________________________________________________________________\n",
            "dense_1 (Dense)              (None, 256)               295168    \n",
            "_________________________________________________________________\n",
            "dropout_3 (Dropout)          (None, 256)               0         \n",
            "_________________________________________________________________\n",
            "dense_2 (Dense)              (None, 128)               32896     \n",
            "_________________________________________________________________\n",
            "dropout_4 (Dropout)          (None, 128)               0         \n",
            "_________________________________________________________________\n",
            "dense_3 (Dense)              (None, 7)                 903       \n",
            "=================================================================\n",
            "Total params: 422,231\n",
            "Trainable params: 422,191\n",
            "Non-trainable params: 40\n",
            "_________________________________________________________________\n"
          ],
          "name": "stdout"
        }
      ]
    },
    {
      "metadata": {
        "id": "kWZ99UPnrkRn",
        "colab_type": "code",
        "outputId": "cfea9e01-cd0b-4b2c-d780-a1faea446fba",
        "colab": {
          "base_uri": "https://localhost:8080/",
          "height": 588
        }
      },
      "cell_type": "code",
      "source": [
        "print(history.history.keys())\n",
        "# summarize history for accuracy\n",
        "plt.plot(history.history['acc'])\n",
        "plt.plot(history.history['val_acc'])\n",
        "plt.title('model accuracy')\n",
        "plt.ylabel('accuracy')\n",
        "plt.xlabel('epoch')\n",
        "plt.legend(['train', 'test'], loc='upper left')\n",
        "plt.show()\n",
        "# summarize history for loss\n",
        "plt.plot(history.history['loss'])\n",
        "plt.plot(history.history['val_loss'])\n",
        "plt.title('model loss')\n",
        "plt.ylabel('loss')\n",
        "plt.xlabel('epoch')\n",
        "plt.legend(['train', 'test'], loc='upper left')\n",
        "plt.show()"
      ],
      "execution_count": 19,
      "outputs": [
        {
          "output_type": "stream",
          "text": [
            "dict_keys(['val_loss', 'val_acc', 'loss', 'acc'])\n"
          ],
          "name": "stdout"
        },
        {
          "output_type": "display_data",
          "data": {
            "image/png": "[encoded data removed]",
            "text/plain": [
              "<Figure size 432x288 with 1 Axes>"
            ]
          },
          "metadata": {
            "tags": []
          }
        },
        {
          "output_type": "display_data",
          "data": {
            "image/png": "[encoded data removed]",
            "text/plain": [
              "<Figure size 432x288 with 1 Axes>"
            ]
          },
          "metadata": {
            "tags": []
          }
        }
      ]
    },
    {
      "metadata": {
        "id": "KnlXGRj8r41G",
        "colab_type": "code",
        "colab": {}
      },
      "cell_type": "code",
      "source": [
        "with open('test_image.pkl', 'rb') as f:\n",
        "    test_data = pickle.load(f)\n",
        "    test_data = np.array(test_data)\n",
        "    test_data = test_data.reshape(-1, 1, 28, 28)"
      ],
      "execution_count": 0,
      "outputs": []
    },
    {
      "metadata": {
        "id": "obp7km-Tscp4",
        "colab_type": "code",
        "colab": {}
      },
      "cell_type": "code",
      "source": [
        "import pandas as pd"
      ],
      "execution_count": 0,
      "outputs": []
    },
    {
      "metadata": {
        "id": "tKo26SFwr2XV",
        "colab_type": "code",
        "colab": {}
      },
      "cell_type": "code",
      "source": [
        "predictions = model.predict(test_data)\n",
        "predictions = np.argmax(predictions, axis=1)\n",
        "predictions = pd.Series(predictions, name=\"predicted class\")\n",
        "submit = pd.concat([pd.Series(range(2000),name = \"Test_image_index\"), predictions], axis=1)\n",
        "submit.to_csv(\"Shivam_Gupta.csv\", index=False)"
      ],
      "execution_count": 0,
      "outputs": []
    }
  ]
}