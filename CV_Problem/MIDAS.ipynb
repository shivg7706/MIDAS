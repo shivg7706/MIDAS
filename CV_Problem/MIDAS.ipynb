{
  "nbformat": 4,
  "nbformat_minor": 0,
  "metadata": {
    "colab": {
      "name": "MIDAS.ipynb",
      "version": "0.3.2",
      "provenance": []
    },
    "kernelspec": {
      "name": "python3",
      "display_name": "Python 3"
    },
    "accelerator": "GPU"
  },
  "cells": [
    {
      "metadata": {
        "id": "5Q_i6zP76oZq",
        "colab_type": "code",
        "outputId": "915e3b69-17da-4730-840d-096306ee4243",
        "colab": {
          "base_uri": "https://localhost:8080/",
          "height": 34
        }
      },
      "cell_type": "code",
      "source": [
        "import pickle\n",
        "import numpy as np\n",
        "from keras.datasets import mnist\n",
        "from keras.models import Sequential\n",
        "from keras.layers import Dense\n",
        "from keras.layers import Dropout\n",
        "from keras.layers import Flatten\n",
        "from keras.layers.convolutional import Conv2D\n",
        "from keras.layers import BatchNormalization\n",
        "from keras.layers.convolutional import MaxPooling2D\n",
        "from keras.utils import np_utils\n",
        "from keras.utils import plot_model\n",
        "from keras import backend as K\n",
        "from sklearn.model_selection import train_test_split\n",
        "K.set_image_dim_ordering('th')"
      ],
      "execution_count": 0,
      "outputs": [
        {
          "output_type": "stream",
          "text": [
            "Using TensorFlow backend.\n"
          ],
          "name": "stderr"
        }
      ]
    },
    {
      "metadata": {
        "id": "Rl_bxvLA7ks9",
        "colab_type": "code",
        "colab": {}
      },
      "cell_type": "code",
      "source": [
        "with open('train_image.pkl', 'rb') as f:\n",
        "    data = pickle.load(f)\n",
        "    data = np.array(data)\n",
        "    data = data.reshape(-1, 28, 28)\n",
        "\n",
        "    "
      ],
      "execution_count": 0,
      "outputs": []
    },
    {
      "metadata": {
        "id": "Pzgc8Iv77lNB",
        "colab_type": "code",
        "colab": {}
      },
      "cell_type": "code",
      "source": [
        "with open('train_label.pkl', 'rb') as f:\n",
        "    label = pickle.load(f)\n",
        "    label = np.array(label)\n",
        "    label = label.reshape(-1, 1)"
      ],
      "execution_count": 0,
      "outputs": []
    },
    {
      "metadata": {
        "id": "Ovg2RvypCLf1",
        "colab_type": "code",
        "outputId": "798fc0f0-9bf2-49f1-bbfd-dcfb599661b9",
        "colab": {
          "base_uri": "https://localhost:8080/",
          "height": 34
        }
      },
      "cell_type": "code",
      "source": [
        "label.shape"
      ],
      "execution_count": 0,
      "outputs": [
        {
          "output_type": "execute_result",
          "data": {
            "text/plain": [
              "(8000, 1)"
            ]
          },
          "metadata": {
            "tags": []
          },
          "execution_count": 4
        }
      ]
    },
    {
      "metadata": {
        "id": "TGMhtliY-RPO",
        "colab_type": "code",
        "colab": {}
      },
      "cell_type": "code",
      "source": [
        "data_train, data_test, label_train, label_test = train_test_split(data, label, test_size=0.20, random_state=42)"
      ],
      "execution_count": 0,
      "outputs": []
    },
    {
      "metadata": {
        "id": "8guPviwy-1ZG",
        "colab_type": "code",
        "outputId": "386bb1a6-0159-467b-ba8f-501561506b75",
        "colab": {
          "base_uri": "https://localhost:8080/",
          "height": 265
        }
      },
      "cell_type": "code",
      "source": [
        "%matplotlib inline\n",
        "from matplotlib import pyplot as plt\n",
        "plt.imshow(data[0], interpolation='nearest')\n",
        "plt.show()"
      ],
      "execution_count": 0,
      "outputs": [
        {
          "output_type": "display_data",
          "data": {
            "image/png": "[encoded data removed]",
            "text/plain": [
              "<Figure size 432x288 with 1 Axes>"
            ]
          },
          "metadata": {
            "tags": []
          }
        }
      ]
    },
    {
      "metadata": {
        "id": "OdiPH2BEBRBj",
        "colab_type": "code",
        "colab": {}
      },
      "cell_type": "code",
      "source": [
        "data_train = data_train.reshape(data_train.shape[0], 1, 28, 28).astype('float32')\n",
        "data_test = data_test.reshape(data_test.shape[0], 1, 28, 28).astype('float32')"
      ],
      "execution_count": 0,
      "outputs": []
    },
    {
      "metadata": {
        "id": "nBNpRy5FCFRS",
        "colab_type": "code",
        "outputId": "35d96db0-af2d-4cbb-d524-7ab2cc05c144",
        "colab": {
          "base_uri": "https://localhost:8080/",
          "height": 34
        }
      },
      "cell_type": "code",
      "source": [
        "label_train.shape"
      ],
      "execution_count": 0,
      "outputs": [
        {
          "output_type": "execute_result",
          "data": {
            "text/plain": [
              "(6400, 7)"
            ]
          },
          "metadata": {
            "tags": []
          },
          "execution_count": 10
        }
      ]
    },
    {
      "metadata": {
        "id": "dRR34_tYBQ1L",
        "colab_type": "code",
        "outputId": "286a4987-cd1d-411c-fca1-416bd4e25b93",
        "colab": {
          "base_uri": "https://localhost:8080/",
          "height": 34
        }
      },
      "cell_type": "code",
      "source": [
        "\n",
        "label_train = np_utils.to_categorical(label_train)\n",
        "label_test = np_utils.to_categorical(label_test)\n",
        "num_classes = label_test.shape[1]\n",
        "print(num_classes)"
      ],
      "execution_count": 0,
      "outputs": [
        {
          "output_type": "stream",
          "text": [
            "7\n"
          ],
          "name": "stdout"
        }
      ]
    },
    {
      "metadata": {
        "id": "67dO39nNBQec",
        "colab_type": "code",
        "colab": {}
      },
      "cell_type": "code",
      "source": [
        "def cnn_model():\n",
        "    model = Sequential()\n",
        "    model.add(Conv2D(32, kernel_size=5,input_shape=(1, 28, 28), activation = 'relu'))\n",
        "    model.add(MaxPooling2D(2,2))\n",
        "    model.add(BatchNormalization())\n",
        "    model.add(Dropout(0.4))\n",
        "\n",
        "    model.add(Conv2D(64, kernel_size=3,activation = 'relu'))\n",
        "    model.add(Conv2D(64, kernel_size=3,activation = 'relu'))\n",
        "    model.add(MaxPooling2D(2,2))\n",
        "    model.add(BatchNormalization())\n",
        "    model.add(Dropout(0.4))\n",
        "\n",
        "    model.add(Conv2D(128, kernel_size=3, activation = 'relu'))\n",
        "    model.add(BatchNormalization())\n",
        "\n",
        "    model.add(Flatten())\n",
        "    model.add(Dense(256, activation = \"relu\"))\n",
        "    model.add(Dropout(0.4))\n",
        "    model.add(Dense(128, activation = \"relu\"))\n",
        "    model.add(Dropout(0.4))\n",
        "    model.add(Dense(7, activation = \"softmax\"))\n",
        "    \n",
        "    model.compile(loss='categorical_crossentropy', optimizer='adam', metrics=['accuracy'])\n",
        "    \n",
        "    return model"
      ],
      "execution_count": 0,
      "outputs": []
    },
    {
      "metadata": {
        "id": "hqeshkWOoh3P",
        "colab_type": "code",
        "outputId": "d1b70ea2-3be1-49f9-c669-38d2a3d90647",
        "colab": {
          "base_uri": "https://localhost:8080/",
          "height": 746
        }
      },
      "cell_type": "code",
      "source": [
        "model = cnn_model()\n",
        "history = model.fit(data_train, label_train, validation_data=(data_test, label_test), epochs=20, batch_size=32, verbose=2)\n",
        "scores = model.evaluate(data_test, label_test, verbose=0)\n",
        "print('CNN Error {}'.format(100-scores[1]*100))"
      ],
      "execution_count": 0,
      "outputs": [
        {
          "output_type": "stream",
          "text": [
            "Train on 6400 samples, validate on 1600 samples\n",
            "Epoch 1/20\n",
            " - 4s - loss: 1.0526 - acc: 0.5445 - val_loss: 0.7397 - val_acc: 0.6756\n",
            "Epoch 2/20\n",
            " - 3s - loss: 0.7302 - acc: 0.6761 - val_loss: 0.6243 - val_acc: 0.7163\n",
            "Epoch 3/20\n",
            " - 3s - loss: 0.6432 - acc: 0.7259 - val_loss: 0.5830 - val_acc: 0.7531\n",
            "Epoch 4/20\n",
            " - 3s - loss: 0.5852 - acc: 0.7636 - val_loss: 0.5381 - val_acc: 0.7781\n",
            "Epoch 5/20\n",
            " - 3s - loss: 0.5533 - acc: 0.7717 - val_loss: 0.5364 - val_acc: 0.7812\n",
            "Epoch 6/20\n",
            " - 3s - loss: 0.5347 - acc: 0.7883 - val_loss: 0.4754 - val_acc: 0.7963\n",
            "Epoch 7/20\n",
            " - 3s - loss: 0.4927 - acc: 0.8033 - val_loss: 0.4983 - val_acc: 0.7850\n",
            "Epoch 8/20\n",
            " - 3s - loss: 0.4794 - acc: 0.8117 - val_loss: 0.4803 - val_acc: 0.8000\n",
            "Epoch 9/20\n",
            " - 3s - loss: 0.4385 - acc: 0.8230 - val_loss: 0.4307 - val_acc: 0.8237\n",
            "Epoch 10/20\n",
            " - 3s - loss: 0.4530 - acc: 0.8203 - val_loss: 0.4468 - val_acc: 0.8037\n",
            "Epoch 11/20\n",
            " - 3s - loss: 0.4098 - acc: 0.8367 - val_loss: 0.3941 - val_acc: 0.8406\n",
            "Epoch 12/20\n",
            " - 3s - loss: 0.4127 - acc: 0.8408 - val_loss: 0.3975 - val_acc: 0.8381\n",
            "Epoch 13/20\n",
            " - 3s - loss: 0.3840 - acc: 0.8462 - val_loss: 0.3967 - val_acc: 0.8387\n",
            "Epoch 14/20\n",
            " - 3s - loss: 0.3847 - acc: 0.8484 - val_loss: 0.3882 - val_acc: 0.8462\n",
            "Epoch 15/20\n",
            " - 3s - loss: 0.3665 - acc: 0.8575 - val_loss: 0.3893 - val_acc: 0.8431\n",
            "Epoch 16/20\n",
            " - 3s - loss: 0.3497 - acc: 0.8645 - val_loss: 0.3729 - val_acc: 0.8506\n",
            "Epoch 17/20\n",
            " - 3s - loss: 0.3465 - acc: 0.8672 - val_loss: 0.3651 - val_acc: 0.8581\n",
            "Epoch 18/20\n",
            " - 3s - loss: 0.3442 - acc: 0.8631 - val_loss: 0.3538 - val_acc: 0.8506\n",
            "Epoch 19/20\n",
            " - 3s - loss: 0.3330 - acc: 0.8691 - val_loss: 0.3679 - val_acc: 0.8569\n",
            "Epoch 20/20\n",
            " - 3s - loss: 0.3150 - acc: 0.8736 - val_loss: 0.4086 - val_acc: 0.8450\n",
            "CNN Error 15.5\n"
          ],
          "name": "stdout"
        }
      ]
    },
    {
      "metadata": {
        "id": "g9NQt-y2ohnq",
        "colab_type": "code",
        "outputId": "b3fe873b-02f7-47bc-b7a5-328529237287",
        "colab": {
          "base_uri": "https://localhost:8080/",
          "height": 729
        }
      },
      "cell_type": "code",
      "source": [
        "model.summary()"
      ],
      "execution_count": 0,
      "outputs": [
        {
          "output_type": "stream",
          "text": [
            "_________________________________________________________________\n",
            "Layer (type)                 Output Shape              Param #   \n",
            "=================================================================\n",
            "conv2d_17 (Conv2D)           (None, 32, 24, 24)        832       \n",
            "_________________________________________________________________\n",
            "max_pooling2d_9 (MaxPooling2 (None, 32, 12, 12)        0         \n",
            "_________________________________________________________________\n",
            "batch_normalization_13 (Batc (None, 32, 12, 12)        48        \n",
            "_________________________________________________________________\n",
            "dropout_17 (Dropout)         (None, 32, 12, 12)        0         \n",
            "_________________________________________________________________\n",
            "conv2d_18 (Conv2D)           (None, 64, 10, 10)        18496     \n",
            "_________________________________________________________________\n",
            "conv2d_19 (Conv2D)           (None, 64, 8, 8)          36928     \n",
            "_________________________________________________________________\n",
            "max_pooling2d_10 (MaxPooling (None, 64, 4, 4)          0         \n",
            "_________________________________________________________________\n",
            "batch_normalization_14 (Batc (None, 64, 4, 4)          16        \n",
            "_________________________________________________________________\n",
            "dropout_18 (Dropout)         (None, 64, 4, 4)          0         \n",
            "_________________________________________________________________\n",
            "conv2d_20 (Conv2D)           (None, 128, 2, 2)         73856     \n",
            "_________________________________________________________________\n",
            "batch_normalization_15 (Batc (None, 128, 2, 2)         8         \n",
            "_________________________________________________________________\n",
            "flatten_5 (Flatten)          (None, 512)               0         \n",
            "_________________________________________________________________\n",
            "dense_13 (Dense)             (None, 256)               131328    \n",
            "_________________________________________________________________\n",
            "dropout_19 (Dropout)         (None, 256)               0         \n",
            "_________________________________________________________________\n",
            "dense_14 (Dense)             (None, 128)               32896     \n",
            "_________________________________________________________________\n",
            "dropout_20 (Dropout)         (None, 128)               0         \n",
            "_________________________________________________________________\n",
            "dense_15 (Dense)             (None, 7)                 903       \n",
            "=================================================================\n",
            "Total params: 295,311\n",
            "Trainable params: 295,275\n",
            "Non-trainable params: 36\n",
            "_________________________________________________________________\n"
          ],
          "name": "stdout"
        }
      ]
    },
    {
      "metadata": {
        "id": "kWZ99UPnrkRn",
        "colab_type": "code",
        "outputId": "7c24da73-d47a-4e6d-e889-17add22bd44c",
        "colab": {
          "base_uri": "https://localhost:8080/",
          "height": 588
        }
      },
      "cell_type": "code",
      "source": [
        "print(history.history.keys())\n",
        "# summarize history for accuracy\n",
        "plt.plot(history.history['acc'])\n",
        "plt.plot(history.history['val_acc'])\n",
        "plt.title('model accuracy')\n",
        "plt.ylabel('accuracy')\n",
        "plt.xlabel('epoch')\n",
        "plt.legend(['train', 'test'], loc='upper left')\n",
        "plt.show()\n",
        "# summarize history for loss\n",
        "plt.plot(history.history['loss'])\n",
        "plt.plot(history.history['val_loss'])\n",
        "plt.title('model loss')\n",
        "plt.ylabel('loss')\n",
        "plt.xlabel('epoch')\n",
        "plt.legend(['train', 'test'], loc='upper left')\n",
        "plt.show()"
      ],
      "execution_count": 0,
      "outputs": [
        {
          "output_type": "stream",
          "text": [
            "dict_keys(['val_loss', 'val_acc', 'loss', 'acc'])\n"
          ],
          "name": "stdout"
        },
        {
          "output_type": "display_data",
          "data": {
            "image/png": "[encoded data removed]",
            "text/plain": [
              "<Figure size 432x288 with 1 Axes>"
            ]
          },
          "metadata": {
            "tags": []
          }
        },
        {
          "output_type": "display_data",
          "data": {
            "image/png": "[encoded data removed]",
            "text/plain": [
              "<Figure size 432x288 with 1 Axes>"
            ]
          },
          "metadata": {
            "tags": []
          }
        }
      ]
    },
    {
      "metadata": {
        "id": "KnlXGRj8r41G",
        "colab_type": "code",
        "colab": {}
      },
      "cell_type": "code",
      "source": [
        "with open('test_image.pkl', 'rb') as f:\n",
        "    test_data = pickle.load(f)\n",
        "    test_data = np.array(test_data)\n",
        "    test_data = test_data.reshape(-1, 1, 28, 28)"
      ],
      "execution_count": 0,
      "outputs": []
    },
    {
      "metadata": {
        "id": "obp7km-Tscp4",
        "colab_type": "code",
        "colab": {}
      },
      "cell_type": "code",
      "source": [
        "import pandas as pd"
      ],
      "execution_count": 0,
      "outputs": []
    },
    {
      "metadata": {
        "id": "tKo26SFwr2XV",
        "colab_type": "code",
        "colab": {}
      },
      "cell_type": "code",
      "source": [
        "predictions = model.predict(test_data)\n",
        "predictions = np.argmax(predictions, axis=1)\n",
        "predictions = pd.Series(predictions, name=\"Label\")\n",
        "submit = pd.concat([pd.Series(range(2000),name = \"ImageId\"), predictions], axis=1)\n",
        "submit.to_csv(\"result.csv\", index=False)"
      ],
      "execution_count": 0,
      "outputs": []
    },
    {
      "metadata": {
        "id": "MgUgjUleogaO",
        "colab_type": "code",
        "colab": {}
      },
      "cell_type": "code",
      "source": [
        "model.save('midas.model')"
      ],
      "execution_count": 0,
      "outputs": []
    }
  ]
}